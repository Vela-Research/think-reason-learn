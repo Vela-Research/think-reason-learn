{
 "cells": [
  {
   "cell_type": "markdown",
   "id": "7c9a43a5",
   "metadata": {},
   "source": [
    "# Imports"
   ]
  },
  {
   "cell_type": "code",
   "execution_count": 1,
   "id": "b92843d8",
   "metadata": {},
   "outputs": [],
   "source": [
    "import pandas as pd\n",
    "from think_reason_learn.policy_induction import PolicyInduction, WeightTrainerConfig\n",
    "from think_reason_learn.core.llms import GoogleChoice, OpenAIChoice"
   ]
  },
  {
   "cell_type": "markdown",
   "id": "5851f75c",
   "metadata": {},
   "source": [
    "# Log level"
   ]
  },
  {
   "cell_type": "code",
   "execution_count": 2,
   "id": "c72efea7",
   "metadata": {},
   "outputs": [],
   "source": [
    "import logging\n",
    "import sys\n",
    "\n",
    "logging.basicConfig(\n",
    "    level=logging.INFO,  # You might want debug or info\n",
    "    stream=sys.stdout,\n",
    "    format=\"%(asctime)s %(levelname)s %(name)s: %(message)s\",\n",
    "    force=True,\n",
    ")\n",
    "\n",
    "logging.getLogger(\"google_genai.models\").setLevel(logging.ERROR)\n",
    "logging.getLogger(\"google_genai.models\").propagate = False"
   ]
  },
  {
   "cell_type": "markdown",
   "id": "bd48c1ed",
   "metadata": {},
   "source": [
    "# Data"
   ]
  },
  {
   "cell_type": "code",
   "execution_count": 3,
   "id": "bd02e8cb",
   "metadata": {},
   "outputs": [],
   "source": [
    "person1 = \"\"\"\\\n",
    "A is a 30-year-old woman living in San Francisco. She studied computer science at \\\n",
    "Stanford and worked for six years as a senior engineer at Google on \\\n",
    "large-scale distributed systems. She recently left to start an AI-powered healthcare \\\n",
    "analytics company and has already raised a $2M seed round from \\\n",
    "well-known Bay Area investors.\n",
    "\"\"\"\n",
    "\n",
    "person2 = \"\"\"\\\n",
    "B is a 25-year-old man based in New York City. He graduated with a degree in \\\n",
    "marketing from NYU and has been working as a marketing manager at Apple for \\\n",
    "the past three years. He is trying to launch a social media app. Before apple, \\\n",
    "he was a product manager at Facebook.\n",
    "\"\"\"\n",
    "\n",
    "person3 = \"\"\"\\\n",
    "C is stay in Los Angeles. He is a practicing medical doctor at UCLA \\\n",
    "and is working on a remote patient monitoring platform. He has limited \\\n",
    "technical knowledge and no startup experience, relying heavily on contractors \\\n",
    "for development. He is also a big fan of the Lakers.\n",
    "\"\"\"\n",
    "\n",
    "person4 = \"\"\"\\\n",
    "D is a 40-year-old man living in Chicago. He studied law at the University of \\\n",
    "Chicago and has built a career as a corporate lawyer specializing in \\\n",
    "mergers and acquisitions. He is exploring a legal-tech startup idea but is \\\n",
    "still working full-time at his law firm and has no technical or entrepreneurial \\\n",
    "background.\n",
    "\"\"\"\n",
    "\n",
    "person5 = \"\"\"\\\n",
    "E is a 28-year-old woman in San Francisco. She studied computer engineering at \\\n",
    "UC Berkeley and worked as a software engineer at a YC-backed fintech startup \\\n",
    "that scaled rapidly. She is now building her own fintech product for underbanked \\\n",
    "communities and has early traction with pilot customers in Latin America.\n",
    "\"\"\"\n",
    "\n",
    "person6 = \"\"\"\\\n",
    "F is a 32-year-old man based in New York City. He earned his MBA from Columbia \\\n",
    "Business School after working in marketing roles at Apple and Spotify. He is \\\n",
    "now working on a consumer subscription box startup, but customer acquisition costs \\\n",
    "have been high, and he is struggling to attract investors without stronger traction.\n",
    "\"\"\"\n",
    "\n",
    "person7 = \"\"\"\\\n",
    "G is a 27-year-old woman living in Austin, Texas. She studied industrial engineering \\\n",
    "at MIT and later worked as a product manager at Amazon, focusing on supply chain \\\n",
    "logistics. She has teamed up with two cofounders from her professional network to \\\n",
    "launch a logistics automation startup and recently joined a prominent accelerator.\n",
    "\"\"\"\n",
    "\n",
    "person8 = \"\"\"\\\n",
    "H has worked in 7 companies, in 3 different industries. He is currently a product \\\n",
    "manager at a startup in the fintech industry. He is looking to launch a new \\\n",
    "product in the edutech industry.\n",
    "\"\"\""
   ]
  },
  {
   "cell_type": "code",
   "execution_count": 4,
   "id": "64566f4a",
   "metadata": {},
   "outputs": [],
   "source": [
    "X = pd.DataFrame(\n",
    "    {\n",
    "        \"data\": [\n",
    "            person1,\n",
    "            person2,\n",
    "            person3,\n",
    "            person4,\n",
    "            person5,\n",
    "            person6,\n",
    "            person7,\n",
    "            person8,\n",
    "        ]\n",
    "    }\n",
    ")\n",
    "y = [\"YES\", \"NO\", \"NO\", \"YES\", \"NO\", \"NO\", \"YES\", \"NO\"]"
   ]
  },
  {
   "cell_type": "markdown",
   "id": "3a3f527e",
   "metadata": {},
   "source": [
    "# Policy Induction"
   ]
  },
  {
   "cell_type": "code",
   "execution_count": 5,
   "id": "5043029f",
   "metadata": {},
   "outputs": [],
   "source": [
    "config = WeightTrainerConfig(cv_folds=2)\n",
    "pi = PolicyInduction(\n",
    "        gen_llmc=[\n",
    "            GoogleChoice(model=\"gemini-2.5-flash\"),\n",
    "            OpenAIChoice(model=\"gpt-4o-mini\"),\n",
    "        ],\n",
    "        predict_llmc=[\n",
    "            GoogleChoice(model=\"gemini-2.5-flash\"),\n",
    "            OpenAIChoice(model=\"gpt-4o-mini\"),\n",
    "        ],\n",
    "        config=config\n",
    "    )"
   ]
  },
  {
   "cell_type": "code",
   "execution_count": 6,
   "id": "a933be1e",
   "metadata": {},
   "outputs": [
    {
     "name": "stdout",
     "output_type": "stream",
     "text": [
      "2025-10-18 02:46:37,405 INFO think_reason_learn.policy_induction._policy_induction: Generated policy generation instructions with confidence 0.9523611757070704\n",
      "You are an expert policy refiner and extender for binary classification tasks. Your objective is to improve and generalize existing classification policies by incorporating insights from new data, rather than discarding the original policies.\n",
      "\n",
      "You will be provided with:\n",
      "1.  A **Task Description**: Outlining the goal of the classification.\n",
      "2.  **Existing Policies**: A set of policies generated in previous rounds.\n",
      "3.  **New Data Samples**: Recently collected data points with their corresponding binary labels.\n",
      "\n",
      "Your task is to analyze the new data samples in the context of the task description and the existing policies. Use the new data to:\n",
      "*   **Refine existing policies**: Clarify ambiguous logic, make them more precise, and improve their general applicability across different cases.\n",
      "*   **Extend policies**: Identify new, broader patterns or decision rules from the data that are not covered by existing policies, and formulate them as new policy statements.\n",
      "*   **Generalize insights**: Extract broader, transferable patterns and underlying success/failure factors from the new data. Focus on principles that apply beyond specific examples, avoiding overfitting.\n",
      "*   **Maintain conciseness**: Ensure all policies are clear, actionable, and succinct.\n",
      "*   **Prioritize improvement**: Do not replace or discard existing policies unless they are demonstrably incorrect or have been significantly improved upon by a refined version. Aim to integrate and enhance.\n",
      "\n",
      "Generate a numbered list of refined and extended policies. The total length of your policy list must not exceed <max_policy_length> rows.\n"
     ]
    }
   ],
   "source": [
    "instructions_tem = await pi.set_task(\n",
    "        task_description=\"Predict if a startup founder will be successful \"\n",
    "        \"or fail based on their background.\",\n",
    "    )\n",
    "print(instructions_tem)"
   ]
  },
  {
   "cell_type": "code",
   "execution_count": 7,
   "id": "1b598f96",
   "metadata": {},
   "outputs": [
    {
     "name": "stdout",
     "output_type": "stream",
     "text": [
      "2025-10-18 02:46:37,420 INFO think_reason_learn.policy_induction._policy_induction: Generating Policies\n",
      "2025-10-18 02:46:58,477 INFO think_reason_learn.policy_induction._policy_induction: Generated policies: 8\n",
      "2025-10-18 02:46:58,479 INFO think_reason_learn.policy_induction._policy_induction: Scoring Policies\n",
      "2025-10-18 02:48:50,139 INFO think_reason_learn.policy_induction._policy_induction: Setting policy weight\n",
      "2025-10-18 02:48:50,153 INFO think_reason_learn.policy_induction._policy_induction: Fitting weights: 8 samples × 8 models\n",
      "2025-10-18 02:48:50,628 INFO think_reason_learn.policy_induction._policy_induction: C=0.001 mean F0.5=0.47009\n",
      "2025-10-18 02:48:51,079 INFO think_reason_learn.policy_induction._policy_induction: C=0.01 mean F0.5=0.47009\n",
      "2025-10-18 02:48:51,520 INFO think_reason_learn.policy_induction._policy_induction: C=0.1 mean F0.5=0.47009\n",
      "2025-10-18 02:48:51,967 INFO think_reason_learn.policy_induction._policy_induction: C=1 mean F0.5=0.69444\n",
      "2025-10-18 02:48:52,408 INFO think_reason_learn.policy_induction._policy_induction: C=10 mean F0.5=0.69444\n",
      "2025-10-18 02:48:52,862 INFO think_reason_learn.policy_induction._policy_induction: C=100 mean F0.5=0.69444\n",
      "2025-10-18 02:48:53,323 INFO think_reason_learn.policy_induction._policy_induction: C=1000 mean F0.5=0.69444\n",
      "2025-10-18 02:48:53,327 INFO think_reason_learn.policy_induction._policy_induction: Fit complete. Best C=1, Best CV score=0.6944444444444444. Recommended threshold=0.525\n",
      "2025-10-18 02:48:53,328 INFO think_reason_learn.policy_induction._policy_induction: PolicyInductioin settled successfully\n"
     ]
    }
   ],
   "source": [
    "pi = await pi.fit(X, y, reset=True)"
   ]
  },
  {
   "cell_type": "code",
   "execution_count": 8,
   "id": "df08a1e5",
   "metadata": {},
   "outputs": [
    {
     "data": {
      "text/html": [
       "<div>\n",
       "<style scoped>\n",
       "    .dataframe tbody tr th:only-of-type {\n",
       "        vertical-align: middle;\n",
       "    }\n",
       "\n",
       "    .dataframe tbody tr th {\n",
       "        vertical-align: top;\n",
       "    }\n",
       "\n",
       "    .dataframe thead th {\n",
       "        text-align: right;\n",
       "    }\n",
       "</style>\n",
       "<table border=\"1\" class=\"dataframe\">\n",
       "  <thead>\n",
       "    <tr style=\"text-align: right;\">\n",
       "      <th></th>\n",
       "      <th>policy</th>\n",
       "      <th>predictions</th>\n",
       "    </tr>\n",
       "  </thead>\n",
       "  <tbody>\n",
       "    <tr>\n",
       "      <th>0</th>\n",
       "      <td>Founders possessing deep, directly relevant do...</td>\n",
       "      <td>0    YES\n",
       "1    YES\n",
       "2    YES\n",
       "3    YES\n",
       "4    YES\n",
       "5...</td>\n",
       "    </tr>\n",
       "    <tr>\n",
       "      <th>1</th>\n",
       "      <td>Founders who have graduated from top-tier educ...</td>\n",
       "      <td>0    YES\n",
       "1    YES\n",
       "2    YES\n",
       "3    YES\n",
       "4    YES\n",
       "5...</td>\n",
       "    </tr>\n",
       "    <tr>\n",
       "      <th>2</th>\n",
       "      <td>Securing early external validation, such as si...</td>\n",
       "      <td>0    YES\n",
       "1     NO\n",
       "2     NO\n",
       "3     NO\n",
       "4     NO\n",
       "5...</td>\n",
       "    </tr>\n",
       "    <tr>\n",
       "      <th>3</th>\n",
       "      <td>A significant gap in critical expertise requir...</td>\n",
       "      <td>0    YES\n",
       "1     NO\n",
       "2     NO\n",
       "3     NO\n",
       "4    YES\n",
       "5...</td>\n",
       "    </tr>\n",
       "    <tr>\n",
       "      <th>4</th>\n",
       "      <td>Founders experiencing high customer acquisitio...</td>\n",
       "      <td>0    YES\n",
       "1    YES\n",
       "2     NO\n",
       "3     NO\n",
       "4    YES\n",
       "5...</td>\n",
       "    </tr>\n",
       "    <tr>\n",
       "      <th>5</th>\n",
       "      <td>Founders with a very broad or frequently chang...</td>\n",
       "      <td>0     NO\n",
       "1    YES\n",
       "2    YES\n",
       "3    YES\n",
       "4     NO\n",
       "5...</td>\n",
       "    </tr>\n",
       "    <tr>\n",
       "      <th>6</th>\n",
       "      <td>Ventures entering highly competitive markets w...</td>\n",
       "      <td>0     NO\n",
       "1     NO\n",
       "2     NO\n",
       "3     NO\n",
       "4    YES\n",
       "5...</td>\n",
       "    </tr>\n",
       "    <tr>\n",
       "      <th>7</th>\n",
       "      <td>Even founders with strong technical skills and...</td>\n",
       "      <td>0     NO\n",
       "1     NO\n",
       "2     NO\n",
       "3     NO\n",
       "4     NO\n",
       "5...</td>\n",
       "    </tr>\n",
       "  </tbody>\n",
       "</table>\n",
       "</div>"
      ],
      "text/plain": [
       "                                              policy  \\\n",
       "0  Founders possessing deep, directly relevant do...   \n",
       "1  Founders who have graduated from top-tier educ...   \n",
       "2  Securing early external validation, such as si...   \n",
       "3  A significant gap in critical expertise requir...   \n",
       "4  Founders experiencing high customer acquisitio...   \n",
       "5  Founders with a very broad or frequently chang...   \n",
       "6  Ventures entering highly competitive markets w...   \n",
       "7  Even founders with strong technical skills and...   \n",
       "\n",
       "                                         predictions  \n",
       "0  0    YES\n",
       "1    YES\n",
       "2    YES\n",
       "3    YES\n",
       "4    YES\n",
       "5...  \n",
       "1  0    YES\n",
       "1    YES\n",
       "2    YES\n",
       "3    YES\n",
       "4    YES\n",
       "5...  \n",
       "2  0    YES\n",
       "1     NO\n",
       "2     NO\n",
       "3     NO\n",
       "4     NO\n",
       "5...  \n",
       "3  0    YES\n",
       "1     NO\n",
       "2     NO\n",
       "3     NO\n",
       "4    YES\n",
       "5...  \n",
       "4  0    YES\n",
       "1    YES\n",
       "2     NO\n",
       "3     NO\n",
       "4    YES\n",
       "5...  \n",
       "5  0     NO\n",
       "1    YES\n",
       "2    YES\n",
       "3    YES\n",
       "4     NO\n",
       "5...  \n",
       "6  0     NO\n",
       "1     NO\n",
       "2     NO\n",
       "3     NO\n",
       "4    YES\n",
       "5...  \n",
       "7  0     NO\n",
       "1     NO\n",
       "2     NO\n",
       "3     NO\n",
       "4     NO\n",
       "5...  "
      ]
     },
     "execution_count": 8,
     "metadata": {},
     "output_type": "execute_result"
    }
   ],
   "source": [
    "pi.get_memory()"
   ]
  },
  {
   "cell_type": "code",
   "execution_count": 9,
   "id": "147d498c",
   "metadata": {},
   "outputs": [
    {
     "name": "stdout",
     "output_type": "stream",
     "text": [
      "Sample 0, Predict: YES\n",
      "Sample 2, Predict: NO\n",
      "Sample 1, Predict: NO\n",
      "Sample 3, Predict: NO\n",
      "Sample 4, Predict: NO\n",
      "Sample 5, Predict: NO\n",
      "Sample 7, Predict: NO\n",
      "Sample 6, Predict: NO\n"
     ]
    }
   ],
   "source": [
    "async for sample_index, results, final_answer, token_counter in pi.predict(X):\n",
    "    print(f\"Sample {sample_index}, Predict: {final_answer}\")"
   ]
  },
  {
   "cell_type": "markdown",
   "id": "e33869ab",
   "metadata": {},
   "source": [
    "# Saving"
   ]
  },
  {
   "cell_type": "code",
   "execution_count": 10,
   "id": "e530898b",
   "metadata": {},
   "outputs": [],
   "source": [
    "pi.save(\"example_policy_induction\", for_production=True)"
   ]
  },
  {
   "cell_type": "markdown",
   "id": "42768d67",
   "metadata": {},
   "source": [
    "# Loading"
   ]
  },
  {
   "cell_type": "code",
   "execution_count": 11,
   "id": "09414272",
   "metadata": {},
   "outputs": [],
   "source": [
    "loaded_pi = PolicyInduction.load(\"example_policy_induction\")"
   ]
  },
  {
   "cell_type": "code",
   "execution_count": 12,
   "id": "5c7cdbb2",
   "metadata": {},
   "outputs": [
    {
     "name": "stdout",
     "output_type": "stream",
     "text": [
      "0 YES\n",
      "1 NO\n",
      "3 NO\n",
      "2 NO\n",
      "5 NO\n",
      "4 NO\n",
      "6 NO\n",
      "7 NO\n"
     ]
    }
   ],
   "source": [
    "async for idx, policy_vector, answer, token_counter in pi.predict(X):\n",
    "    print(idx, answer)"
   ]
  }
 ],
 "metadata": {
  "kernelspec": {
   "display_name": "think-reason-learn-py3.13",
   "language": "python",
   "name": "python3"
  },
  "language_info": {
   "codemirror_mode": {
    "name": "ipython",
    "version": 3
   },
   "file_extension": ".py",
   "mimetype": "text/x-python",
   "name": "python",
   "nbconvert_exporter": "python",
   "pygments_lexer": "ipython3",
   "version": "3.13.7"
  }
 },
 "nbformat": 4,
 "nbformat_minor": 5
}
