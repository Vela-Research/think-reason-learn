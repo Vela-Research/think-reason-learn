{
 "cells": [
  {
   "cell_type": "code",
   "execution_count": 2,
   "id": "6e14c39c",
   "metadata": {},
   "outputs": [],
   "source": [
    "#from think_reason_learn.gptree import GPTree"
   ]
  },
  {
   "cell_type": "code",
   "execution_count": null,
   "id": "38dc021e",
   "metadata": {},
   "outputs": [],
   "source": []
  }
 ],
 "metadata": {
  "language_info": {
   "name": "python"
  }
 },
 "nbformat": 4,
 "nbformat_minor": 5
}
